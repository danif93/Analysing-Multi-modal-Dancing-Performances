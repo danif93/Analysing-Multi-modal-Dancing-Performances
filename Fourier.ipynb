{
 "cells": [
  {
   "cell_type": "code",
   "execution_count": 1,
   "metadata": {},
   "outputs": [],
   "source": [
    "import CV_utils as cvu\n",
    "import numpy as np\n",
    "import matplotlib.pyplot as plt\n",
    "import os\n",
    "import time\n",
    "import pandas as pd\n",
    "import multiprocessing\n",
    "%matplotlib inline"
   ]
  },
  {
   "cell_type": "code",
   "execution_count": null,
   "metadata": {},
   "outputs": [],
   "source": [
    "def fourier_child(return_dict, i, video_frames, patch_size, verbose):\n",
    "\n",
    "    video_frames = cvu.extract_patches_mean(video_frames, patch_size)\n",
    "    \n",
    "    # row: pixels_patches, col:time\n",
    "    pixels_signal = np.zeros((len(video_frames[0]), len(video_frames)))\n",
    "    \n",
    "    for j, frame in enumerate(video_frames): pixels_signal[:,j] = frame\n",
    "\n",
    "    # single video evolution\n",
    "    pixels_transformed = []\n",
    "\n",
    "    if verbose:\n",
    "        start = time.time()\n",
    "        print('Computing the Fourier serie; {}'.format(i+1))\n",
    "\n",
    "    # analize row of pixels_signal: evolution of a patch in time\n",
    "    for pixel_signal in pixels_signal:           \n",
    "        # return the armonics' coefficients for the selected pixel\n",
    "        coef = np.fft.rfft(pixel_signal)\n",
    "        coef_r = coef.real\n",
    "        coef_i = coef.imag\n",
    "\n",
    "        coef = np.zeros(len(coef)*2)\n",
    "\n",
    "        for k in range(len(coef_r)):\n",
    "            coef[k*2] = coef_r[k]\n",
    "            coef[(k*2)+1] = coef_i[k]\n",
    "\n",
    "        pixels_transformed.append(coef)\n",
    "\n",
    "    if verbose: print('Complete. Time spent: %s'%(time.time()-start))\n",
    "        \n",
    "    return_dict[i] = np.array(pixels_transformed).flatten()\n"
   ]
  },
  {
   "cell_type": "code",
   "execution_count": null,
   "metadata": {},
   "outputs": [],
   "source": [
    "def fourier_dataset_creation(list_video_frames, patch_size, verbose=False):\n",
    "    \n",
    "    # result list: matrix list (one for each video) where row:#pixels, col:n_frames (time)\n",
    "    pixels_transformed_videoList = []\n",
    "    \n",
    "    manager = multiprocessing.Manager()\n",
    "    return_dict = manager.dict()\n",
    "    jobs = []\n",
    "           \n",
    "    for i, video_frames in enumerate(list_video_frames):\n",
    "                \n",
    "        process = multiprocessing.Process(target=fourier_child, args=[return_dict, i, video_frames, patch_size, verbose])\n",
    "        jobs.append(process)\n",
    "        process.start()\n",
    "            \n",
    "    for p in jobs:\n",
    "        p.join()\n",
    "        \n",
    "    for i in range(len(jobs)):    \n",
    "        pixels_transformed_videoList.append(return_dict[i])\n",
    "        \n",
    "    return np.asmatrix(pixels_transformed_videoList)\n",
    "    "
   ]
  },
  {
   "cell_type": "code",
   "execution_count": null,
   "metadata": {},
   "outputs": [],
   "source": [
    "def load_fourier(path_to_read_binary, path_to_read_density, path_to_write, width, n_frames, patch_size=40, verbose=False):\n",
    "\n",
    "    indexes_deleted = []\n",
    "    \n",
    "    for j in range(1, 16):\n",
    "        \n",
    "        if verbose: print(\"Extracting data for the videos from {} to {}\".format((j-1)*10+1, j*10))\n",
    "\n",
    "        list_binary_videoFrames = cvu.binary_read(path_to_read_binary, j, verbose=verbose)\n",
    "        \n",
    "        pd_densityFrames = pd.read_pickle(path_to_read_density+str(j)+'.pkl')\n",
    "\n",
    "        list_frameList, indexes = cvu.normalize_preprocessing(list_binary_videoFrames, pd_densityFrames, width, n_frames, verbose=verbose)     \n",
    "\n",
    "        X = fourier_dataset_creation(list_frameList, patch_size, verbose=verbose)\n",
    "        \n",
    "        bDel_indexes = [x+(j-1)*10 for x in indexes]\n",
    "        indexes_deleted += bDel_indexes\n",
    "        \n",
    "        if verbose: print('\\nWriting .csv file')          \n",
    "        pd.DataFrame(X).to_csv(path_to_write+str(j)+\".csv\", index=False)\n",
    "        \n",
    "    return indexes_deleted"
   ]
  },
  {
   "cell_type": "code",
   "execution_count": null,
   "metadata": {},
   "outputs": [],
   "source": [
    "indexes_deleted = load_fourier('Video/binary_video/', 'Video/densityFrame_pkl/videos_density_', 'datasets/pixels_fourier_partial/fourier_dataset_', width=680, n_frames=500, verbose=True)\n",
    "\n",
    "#pd.DataFrame(indexes_deleted).to_csv(\"datasets/fourier_indexes_deleted.csv\")"
   ]
  },
  {
   "cell_type": "code",
   "execution_count": null,
   "metadata": {},
   "outputs": [],
   "source": [
    "#cvu.merge_dataset('datasets/pixels_fourier_partial/fourier_dataset_', 'datasets/fourier_dataset.csv', verbose=True)"
   ]
  },
  {
   "cell_type": "markdown",
   "metadata": {},
   "source": [
    "## TESTING"
   ]
  },
  {
   "cell_type": "code",
   "execution_count": 2,
   "metadata": {},
   "outputs": [],
   "source": [
    "X = pd.read_csv(\"datasets/fourier_dataset.csv\").values"
   ]
  },
  {
   "cell_type": "code",
   "execution_count": 3,
   "metadata": {},
   "outputs": [],
   "source": [
    "names, y = cvu.load_marks()\n",
    "iDel = pd.read_csv('datasets/fourier_indexes_deleted.csv', index_col=0).values.flatten()\n",
    "y = np.delete(y.values, iDel, axis=0)\n",
    "y_l = y[:,0]\n",
    "y_f = y[:,1]"
   ]
  },
  {
   "cell_type": "code",
   "execution_count": 7,
   "metadata": {},
   "outputs": [],
   "source": [
    "X_tr, y_l_tr, y_f_tr, X_ts, y_l_ts, y_f_ts = cvu.random_sampling(X, y_l, y_f)"
   ]
  },
  {
   "cell_type": "markdown",
   "metadata": {},
   "source": [
    "RLS"
   ]
  },
  {
   "cell_type": "code",
   "execution_count": 8,
   "metadata": {},
   "outputs": [],
   "source": [
    "alphas = np.arange(0.001, 1, 0.007)"
   ]
  },
  {
   "cell_type": "code",
   "execution_count": 9,
   "metadata": {},
   "outputs": [
    {
     "name": "stdout",
     "output_type": "stream",
     "text": [
      "Model: RLS\n",
      "\tregularizer alpha: 0.995\n",
      "\tmean error: 0.6151352850422325\n",
      "\tvariance of the error: 0.17134997140081168\n",
      "\tcoefficient w:\n",
      "[5.48408331e-09 0.00000000e+00 5.48393349e-09 ... 2.19259168e-10\n",
      " 1.98223636e-09 0.00000000e+00]\n",
      "\tprediction:\n",
      "[1.99673861 1.40520458 2.73225639 2.56059856 0.78684081 1.8536377\n",
      " 2.1012893  1.67969287 1.49005283 1.25816831 2.27479114 2.92507966\n",
      " 1.60821458 1.272312   0.96719124 2.304324   1.90788351 1.73377521\n",
      " 2.45816299 1.89071167 2.12352753 1.70932074 2.52937584 1.55490044]\n"
     ]
    }
   ],
   "source": [
    "# LIGHTNESS\n",
    "cvu.print_results('RLS',cvu.rlsCV_regression(alphas, X_tr, X_ts, y_l_tr, y_l_ts))"
   ]
  },
  {
   "cell_type": "code",
   "execution_count": 10,
   "metadata": {},
   "outputs": [
    {
     "name": "stdout",
     "output_type": "stream",
     "text": [
      "Model: RLS\n",
      "\tregularizer alpha: 0.995\n",
      "\tmean error: 0.9313578320247394\n",
      "\tvariance of the error: 0.3434813251163898\n",
      "\tcoefficient w:\n",
      "[-4.24059449e-09  0.00000000e+00 -4.24052150e-09 ... -1.06436990e-10\n",
      " -2.47042003e-09  0.00000000e+00]\n",
      "\tprediction:\n",
      "[ 1.93985477  1.12983665  0.49038926  0.9424313   0.9944312   1.32176092\n",
      "  1.46564475  1.13914488  1.71568833  1.95560436  2.24507844 -0.21704461\n",
      "  1.94924862  1.72028612  1.22996868  0.99430375  0.72348263  1.810745\n",
      "  1.61123787  1.38773957  0.4461687   2.17362943  0.8654023   1.24815522]\n"
     ]
    }
   ],
   "source": [
    "# FRAGILITY\n",
    "cvu.print_results('RLS', cvu.rlsCV_regression(alphas, X_tr, X_ts, y_f_tr, y_f_ts))"
   ]
  },
  {
   "cell_type": "markdown",
   "metadata": {},
   "source": [
    "LASSO"
   ]
  },
  {
   "cell_type": "code",
   "execution_count": 11,
   "metadata": {},
   "outputs": [],
   "source": [
    "alphas = np.arange(0.001, 1, 0.007)"
   ]
  },
  {
   "cell_type": "code",
   "execution_count": 12,
   "metadata": {},
   "outputs": [
    {
     "name": "stderr",
     "output_type": "stream",
     "text": [
      "/anaconda3/lib/python3.6/site-packages/sklearn/linear_model/coordinate_descent.py:491: ConvergenceWarning: Objective did not converge. You might want to increase the number of iterations. Fitting data with very small alpha may cause precision problems.\n",
      "  ConvergenceWarning)\n"
     ]
    },
    {
     "name": "stdout",
     "output_type": "stream",
     "text": [
      "Model: LASSO\n",
      "\tregularizer alpha: 0.9600000000000001\n",
      "\tmean error: 0.5415756184342971\n",
      "\tvariance of the error: 0.2295261193635474\n",
      "\tcoefficient w:\n",
      "[0. 0. 0. ... 0. 0. 0.]\n",
      "\tprediction:\n",
      "[2.06269104 1.7948488  3.14027417 2.65899275 0.77165554 1.5168356\n",
      " 1.38529144 1.88406153 1.29126947 0.9037815  3.04395411 3.67111924\n",
      " 1.75155603 0.93129047 0.66520513 2.02266058 1.72090045 0.92360016\n",
      " 1.63844268 2.37547715 2.30542584 1.54867518 2.6052379  1.38605493]\n"
     ]
    },
    {
     "name": "stderr",
     "output_type": "stream",
     "text": [
      "/anaconda3/lib/python3.6/site-packages/sklearn/linear_model/coordinate_descent.py:491: ConvergenceWarning: Objective did not converge. You might want to increase the number of iterations. Fitting data with very small alpha may cause precision problems.\n",
      "  ConvergenceWarning)\n"
     ]
    }
   ],
   "source": [
    "#LIGHTNESS\n",
    "cvu.print_results('LASSO', cvu.lassoCV_regression(alphas, X_tr, X_ts, y_l_tr, y_l_ts))"
   ]
  },
  {
   "cell_type": "code",
   "execution_count": 13,
   "metadata": {},
   "outputs": [
    {
     "name": "stderr",
     "output_type": "stream",
     "text": [
      "/anaconda3/lib/python3.6/site-packages/sklearn/linear_model/coordinate_descent.py:491: ConvergenceWarning: Objective did not converge. You might want to increase the number of iterations. Fitting data with very small alpha may cause precision problems.\n",
      "  ConvergenceWarning)\n"
     ]
    },
    {
     "name": "stdout",
     "output_type": "stream",
     "text": [
      "Model: LASSO\n",
      "\tregularizer alpha: 0.988\n",
      "\tmean error: 1.013110492900998\n",
      "\tvariance of the error: 0.4208902252400419\n",
      "\tcoefficient w:\n",
      "[-0.  0. -0. ... -0. -0.  0.]\n",
      "\tprediction:\n",
      "[ 1.53655603  0.36252796  0.20911419  1.04767779  1.15641155  1.77625609\n",
      "  1.99683809  1.25383035  2.6690327   2.20773367  2.63752635 -0.32955968\n",
      "  2.77839337  1.37266842  1.13574301  0.24355087  0.65756433  1.66996654\n",
      "  0.94730575  1.46714439 -0.36192091  1.59331629  0.89745383  0.98748603]\n"
     ]
    },
    {
     "name": "stderr",
     "output_type": "stream",
     "text": [
      "/anaconda3/lib/python3.6/site-packages/sklearn/linear_model/coordinate_descent.py:491: ConvergenceWarning: Objective did not converge. You might want to increase the number of iterations. Fitting data with very small alpha may cause precision problems.\n",
      "  ConvergenceWarning)\n"
     ]
    }
   ],
   "source": [
    "#FRAGILITY\n",
    "cvu.print_results('LASSO', cvu.lassoCV_regression(alphas, X_tr, X_ts, y_f_tr, y_f_ts))"
   ]
  },
  {
   "cell_type": "markdown",
   "metadata": {},
   "source": [
    "KERNEL"
   ]
  },
  {
   "cell_type": "code",
   "execution_count": 14,
   "metadata": {},
   "outputs": [],
   "source": [
    "alphas = {'alpha': list(np.arange(0.01, 20, 0.7))}\n",
    "k1 = 'poly'\n",
    "k2 = 'sigmoid'"
   ]
  },
  {
   "cell_type": "code",
   "execution_count": 15,
   "metadata": {},
   "outputs": [
    {
     "name": "stdout",
     "output_type": "stream",
     "text": [
      "Model: RIDGE KERNEL\n",
      "\tregularizer alpha: 0.01\n",
      "\tmean error: 0.8208494860398513\n",
      "\tvariance of the error: 0.4244195371605799\n",
      "\tcoefficient w:\n",
      "[ 3.21610462e-19  5.33135207e-19  3.18639277e-18 -2.69277828e-19\n",
      "  2.38219298e-19  2.06896050e-19  3.55554924e-19  2.39961579e-19\n",
      "  1.99428186e-18  4.69405203e-19 -9.58300143e-19 -5.58129473e-19\n",
      " -3.10199615e-19  5.23145133e-19 -4.15464196e-19  2.26647071e-19\n",
      " -5.82985956e-19  1.32421669e-18 -3.31739143e-19  2.80856011e-19\n",
      " -5.83973244e-19 -2.35146981e-21  4.61876915e-19  4.31920161e-19\n",
      "  1.30796869e-18  7.88270261e-19  5.75788195e-20 -3.91406162e-19\n",
      " -6.21374091e-19  2.47422437e-19  3.28873609e-19 -6.46358273e-19\n",
      " -3.80525971e-19  8.98613655e-19  5.55426939e-19 -1.44207615e-19\n",
      "  1.03046390e-18  2.16189837e-18  1.07617708e-18 -3.60151320e-19\n",
      " -5.13565827e-19  1.83266511e-19  4.46864456e-19  5.07786923e-19\n",
      "  1.41562696e-18  2.78812795e-18 -5.77836085e-19 -5.35218880e-19\n",
      "  1.88593698e-19  3.02047930e-19 -6.03152918e-19  1.73450399e-18\n",
      " -3.95203146e-20 -1.09554571e-19 -6.68987862e-21 -1.19715669e-19\n",
      " -6.78548650e-19  2.78548367e-18 -2.90800151e-19 -7.90665115e-19\n",
      " -4.15151612e-19  6.39683011e-19  6.69213409e-19 -2.54524282e-21\n",
      " -1.78488669e-20 -8.84120568e-19  5.33370462e-19  3.45739482e-18\n",
      "  3.12383194e-18 -3.54893965e-20]\n",
      "\tprediction:\n",
      "[1.55747625 0.13987419 2.23799329 1.44138252 0.05025044 1.05954493\n",
      " 1.90930747 2.59620941 2.00099602 0.31237546 2.08973126 1.29121011\n",
      " 1.02884962 1.2183733  1.19241739 1.32872268 2.00063608 1.24759116\n",
      " 2.04136752 2.54831943 1.13739822 1.35208785 1.79179206 1.75799058]\n"
     ]
    }
   ],
   "source": [
    "#LIGHTNESS - poly\n",
    "cvu.print_results('RIDGE KERNEL', cvu.ridgeKernelCV_regression(alphas, X_tr, X_ts, y_l_tr, y_l_ts, kernel=k1))"
   ]
  },
  {
   "cell_type": "code",
   "execution_count": 16,
   "metadata": {},
   "outputs": [
    {
     "name": "stdout",
     "output_type": "stream",
     "text": [
      "Model: RIDGE KERNEL\n",
      "\tregularizer alpha: 0.71\n",
      "\tmean error: 0.6833333333333335\n",
      "\tvariance of the error: 0.2454281846625818\n",
      "\tcoefficient w:\n",
      "[-0.29491615 -0.29491615  1.39522469 -1.70336686  1.11353455  1.11353455\n",
      " -1.42167672 -1.70336686  0.83184441 -0.29491615 -1.985057   -1.42167672\n",
      " -0.29491615  0.55015427  0.26846413  1.67691483 -0.01322601 -1.42167672\n",
      "  0.26846413  0.83184441 -1.13998657 -0.29491615  1.39522469  0.26846413\n",
      "  0.26846413 -0.01322601  0.55015427 -0.57660629 -1.70336686 -0.29491615\n",
      "  1.67691483 -1.13998657 -1.13998657  2.52198526  0.26846413 -0.85829643\n",
      "  0.55015427 -1.13998657  1.39522469 -0.85829643 -0.85829643 -1.42167672\n",
      " -0.57660629 -0.57660629 -0.29491615  2.52198526 -1.70336686 -0.57660629\n",
      " -1.13998657  0.26846413 -1.42167672  2.52198526  0.55015427  0.83184441\n",
      "  0.83184441  0.55015427 -0.29491615  2.24029512 -0.29491615 -1.13998657\n",
      " -0.29491615  1.67691483  1.95860497 -0.85829643  0.83184441 -1.985057\n",
      "  0.55015427 -0.01322601  2.24029512  0.55015427]\n",
      "\tprediction:\n",
      "[1.60939047 1.60939047 1.60939047 1.60939047 1.60939047 1.60939047\n",
      " 1.60939047 1.60939047 1.60939047 1.60939047 1.60939047 1.60939047\n",
      " 1.60939047 1.60939047 1.60939047 1.60939047 1.60939047 1.60939047\n",
      " 1.60939047 1.60939047 1.60939047 1.60939047 1.60939047 1.60939047]\n"
     ]
    }
   ],
   "source": [
    "#LIGHTNESS - sigmoid\n",
    "cvu.print_results('RIDGE KERNEL', cvu.ridgeKernelCV_regression(alphas, X_tr, X_ts, y_l_tr, y_l_ts, kernel=k2))"
   ]
  },
  {
   "cell_type": "code",
   "execution_count": 17,
   "metadata": {},
   "outputs": [
    {
     "name": "stdout",
     "output_type": "stream",
     "text": [
      "Model: RIDGE KERNEL\n",
      "\tregularizer alpha: 16.11\n",
      "\tmean error: 1.040696484846188\n",
      "\tvariance of the error: 0.37262328068961015\n",
      "\tcoefficient w:\n",
      "[-2.20402495e-19  1.64651516e-18 -4.20947779e-19  6.26498715e-19\n",
      "  3.11532165e-19 -6.67716231e-19  8.67151394e-19  7.13354511e-19\n",
      " -2.13749058e-19  1.35807935e-18 -6.89307014e-20 -3.89048077e-19\n",
      " -2.39635169e-19  6.40545444e-19 -9.94470397e-20 -2.97370050e-19\n",
      " -9.32361463e-19  6.05260006e-18  3.80200667e-19 -2.39021593e-19\n",
      " -1.89653968e-19  8.66233186e-19 -1.05552602e-18  4.78986663e-19\n",
      "  1.02951521e-18 -3.27949115e-19 -1.05538024e-18 -4.90562148e-20\n",
      "  6.78604028e-19 -7.43891983e-19 -2.64147043e-19  5.39490963e-19\n",
      "  6.00545385e-19 -1.24984672e-19  3.77071371e-19 -3.77605446e-19\n",
      "  2.45046359e-18  1.05813507e-17 -1.36179139e-19 -6.23692510e-19\n",
      "  3.10727066e-19  6.55226078e-19 -2.89045085e-19  2.06078839e-18\n",
      "  9.94448483e-19 -6.96111798e-19 -1.26409683e-19 -2.76871449e-19\n",
      "  1.55211978e-18  1.87696780e-18 -1.77603613e-19 -5.58411149e-19\n",
      "  6.20032209e-19 -4.13284681e-19  5.35835098e-19  7.95454043e-19\n",
      " -6.62437313e-20 -1.26295869e-18 -2.68683848e-19 -6.51627724e-19\n",
      "  7.06221323e-19 -1.04125970e-18 -2.48557332e-22  1.08456150e-19\n",
      "  1.89189468e-19 -8.87521099e-19 -6.75313721e-19  7.87115618e-18\n",
      " -9.04596137e-19  6.78436397e-19]\n",
      "\tprediction:\n",
      "[1.49618155 0.11068136 1.18153485 0.55298517 0.09242192 0.58176425\n",
      " 1.30926339 1.82205905 2.25586639 0.37154223 1.98543295 0.23196078\n",
      " 0.96302993 1.26163236 1.19658999 0.63557903 1.02780997 0.91547418\n",
      " 1.73239343 2.25226594 0.4168244  2.12393336 0.73444015 1.31851658]\n"
     ]
    }
   ],
   "source": [
    "#FRAGILITY - poly\n",
    "cvu.print_results('RIDGE KERNEL', cvu.ridgeKernelCV_regression(alphas, X_tr, X_ts, y_f_tr, y_f_ts, kernel=k1))"
   ]
  },
  {
   "cell_type": "code",
   "execution_count": 18,
   "metadata": {},
   "outputs": [
    {
     "name": "stdout",
     "output_type": "stream",
     "text": [
      "Model: RIDGE KERNEL\n",
      "\tregularizer alpha: 1.41\n",
      "\tmean error: 0.9726964010642768\n",
      "\tvariance of the error: 0.268812712405795\n",
      "\tcoefficient w:\n",
      "[-0.54777079  0.30329304 -0.83145873  0.72882496 -0.12223887 -0.9733027\n",
      " -0.12223887  0.0196051  -0.68961476  0.44513701 -0.26408285 -0.68961476\n",
      "  0.16144907  0.30329304  1.0125129  -0.54777079 -0.40592682  0.72882496\n",
      "  1.15435687 -0.54777079 -0.54777079  1.0125129  -0.83145873  0.16144907\n",
      "  1.43804481 -0.9733027  -0.83145873  0.72882496  0.58698098 -0.68961476\n",
      " -0.68961476 -0.12223887  0.16144907 -0.54777079 -0.12223887 -0.68961476\n",
      "  1.43804481  1.15435687 -0.40592682 -0.54777079 -0.12223887  0.0196051\n",
      "  0.16144907  0.30329304 -0.26408285 -0.68961476 -0.40592682  0.16144907\n",
      "  0.87066893  1.43804481 -0.68961476 -0.83145873  1.0125129   0.30329304\n",
      "  1.0125129   1.0125129   0.87066893 -0.83145873 -0.40592682  0.44513701\n",
      "  0.30329304 -0.83145873 -0.68961476 -0.26408285  0.87066893 -0.26408285\n",
      " -0.68961476  0.72882496 -0.9733027   1.0125129 ]\n",
      "\tprediction:\n",
      "[1.37235681 1.37235681 1.37235681 1.37235681 1.37235681 1.37235681\n",
      " 1.37235681 1.37235681 1.37235681 1.37235681 1.37235681 1.37235681\n",
      " 1.37235681 1.37235681 1.37235681 1.37235681 1.37235681 1.37235681\n",
      " 1.37235681 1.37235681 1.37235681 1.37235681 1.37235681 1.37235681]\n"
     ]
    }
   ],
   "source": [
    "#FRAGILITY - sigmoid\n",
    "cvu.print_results('RIDGE KERNEL', cvu.ridgeKernelCV_regression(alphas, X_tr, X_ts, y_f_tr, y_f_ts, kernel=k2))"
   ]
  },
  {
   "cell_type": "markdown",
   "metadata": {},
   "source": [
    "SVM"
   ]
  },
  {
   "cell_type": "code",
   "execution_count": 19,
   "metadata": {},
   "outputs": [],
   "source": [
    "c={'C':np.arange(1,100,10)}"
   ]
  },
  {
   "cell_type": "code",
   "execution_count": 20,
   "metadata": {},
   "outputs": [
    {
     "name": "stdout",
     "output_type": "stream",
     "text": [
      "Model: SVM\n",
      "\tregularizer alpha: 11\n",
      "\tmean error: 0.6833333333333335\n",
      "\tvariance of the error: 0.23607775797628838\n",
      "\tcoefficient w:\n",
      "[[-0.13125    -0.13125     0.86796875 -1.13125     0.66875     0.66875\n",
      "  -0.93125    -1.13125     0.46875    -0.13125    -1.33125    -0.93125\n",
      "  -0.13125     0.26875     0.06875     1.06875    -0.93125     0.06875\n",
      "   0.46875    -0.73125    -0.13125     0.86875     0.06875     0.06875\n",
      "   0.26875    -0.33125    -1.13125    -0.13125     1.06875    -0.73125\n",
      "  -0.73125     1.66875     0.06875    -0.53125     0.26875    -0.73125\n",
      "   0.86875    -0.53125    -0.53125    -0.93125    -0.33125    -0.33125\n",
      "  -0.13125     1.66875    -1.13125    -0.33125    -0.73125     0.06875\n",
      "  -0.93203125  1.66875     0.26875     0.46875     0.46875     0.26875\n",
      "  -0.13203125  1.46875    -0.13203125 -0.73203125 -0.13203125  1.06875\n",
      "   1.26875    -0.53203125  0.46875    -1.33203125  0.26875     1.46875\n",
      "   0.26875   ]]\n",
      "\tprediction:\n",
      "[1.63134328 1.63134328 1.63134328 1.63134328 1.63134328 1.63134328\n",
      " 1.63134328 1.63134328 1.63134328 1.63134328 1.63134328 1.63134328\n",
      " 1.63134328 1.63134328 1.63134328 1.63134328 1.63134328 1.63134328\n",
      " 1.63134328 1.63134328 1.63134328 1.63134328 1.63134328 1.63134328]\n"
     ]
    }
   ],
   "source": [
    "#LIGHTNESS\n",
    "cvu.print_results('SVM', cvu.svmCV_regression(c, X_tr, X_ts, y_l_tr, y_l_ts))"
   ]
  },
  {
   "cell_type": "code",
   "execution_count": 21,
   "metadata": {},
   "outputs": [
    {
     "name": "stdout",
     "output_type": "stream",
     "text": [
      "Model: SVM\n",
      "\tregularizer alpha: 11\n",
      "\tmean error: 0.9764705882352939\n",
      "\tvariance of the error: 0.2662399077277972\n",
      "\tcoefficient w:\n",
      "[[-0.70859375  0.29140625 -1.10859375  0.89140625 -0.10859375 -1.30859375\n",
      "  -0.10859375 -0.90859375  0.49140625 -0.30859375 -0.90859375  0.09140625\n",
      "   0.29140625  1.290625   -0.70859375 -0.50859375  0.89140625  1.49140625\n",
      "  -0.70859375 -0.70859375  1.290625   -1.10859375  0.09140625  1.89140625\n",
      "  -1.30859375 -1.10859375  0.89140625  0.69140625 -0.90859375 -0.90859375\n",
      "  -0.10859375  0.09140625 -0.70859375 -0.109375   -0.909375    1.89140625\n",
      "   1.49140625 -0.509375   -0.709375   -0.109375    0.09140625  0.29140625\n",
      "  -0.309375   -0.909375   -0.509375    0.09140625  1.09140625  1.89140625\n",
      "  -0.909375   -1.109375    1.29140625  0.29140625  1.29140625  1.29140625\n",
      "   1.09140625 -1.109375   -0.509375    0.49140625  0.29140625 -1.109375\n",
      "  -0.909375   -0.309375    1.09140625 -0.309375   -0.909375    0.89140625\n",
      "  -1.309375    1.29140625]]\n",
      "\tprediction:\n",
      "[1.40882353 1.40882353 1.40882353 1.40882353 1.40882353 1.40882353\n",
      " 1.40882353 1.40882353 1.40882353 1.40882353 1.40882353 1.40882353\n",
      " 1.40882353 1.40882353 1.40882353 1.40882353 1.40882353 1.40882353\n",
      " 1.40882353 1.40882353 1.40882353 1.40882353 1.40882353 1.40882353]\n"
     ]
    }
   ],
   "source": [
    "#FRAGILITY\n",
    "cvu.print_results('SVM', cvu.svmCV_regression(c, X_tr, X_ts, y_f_tr, y_f_ts))"
   ]
  },
  {
   "cell_type": "markdown",
   "metadata": {},
   "source": [
    "RF"
   ]
  },
  {
   "cell_type": "code",
   "execution_count": 22,
   "metadata": {},
   "outputs": [
    {
     "name": "stdout",
     "output_type": "stream",
     "text": [
      "0.8416666666666668 0.7499305555555553\n",
      "[0. 0. 0. ... 0. 0. 0.]\n"
     ]
    }
   ],
   "source": [
    "#LIGHTNESS\n",
    "ris = cvu.tree_regression(X_tr, X_ts, y_l_tr, y_l_ts)\n",
    "print(ris[0], ris[1])\n",
    "print(ris[2])"
   ]
  },
  {
   "cell_type": "code",
   "execution_count": 23,
   "metadata": {},
   "outputs": [
    {
     "name": "stdout",
     "output_type": "stream",
     "text": [
      "1.1916666666666667 0.8749305555555557\n",
      "[0. 0. 0. ... 0. 0. 0.]\n"
     ]
    }
   ],
   "source": [
    "#FRAGILITY\n",
    "ris = cvu.tree_regression(X_tr, X_ts, y_f_tr, y_f_ts)\n",
    "print(ris[0], ris[1])\n",
    "print(ris[2])"
   ]
  },
  {
   "cell_type": "markdown",
   "metadata": {},
   "source": [
    "GROUP LASSO"
   ]
  },
  {
   "cell_type": "code",
   "execution_count": 25,
   "metadata": {},
   "outputs": [],
   "source": [
    "groups = np.array(range(0, (306*502))).reshape(-1,2).tolist()\n",
    "X_tr, Y_l_tr, Y_f_tr, X_ts, Y_l_ts, Y_f_ts = cvu.random_sampling(X, y_l, y_f)\n",
    "alphas = np.arange(0.001, 1, 0.01)"
   ]
  },
  {
   "cell_type": "code",
   "execution_count": 28,
   "metadata": {
    "scrolled": true
   },
   "outputs": [
    {
     "name": "stdout",
     "output_type": "stream",
     "text": [
      "1.675\n",
      "0.7260416666666668\n",
      "[ 0.  0.  0. ...  0. -0.  0.]\n"
     ]
    }
   ],
   "source": [
    "# LIGHTNESS\n",
    "coef, alpha = cvu.group_lassoCV(X_tr, Y_l_tr, alphas, groups, max_iter=cvu.MAX_ITER, rtol=1e-6)\n",
    "res = abs(Y_l_ts-np.dot(X_ts,coef))\n",
    "err = np.mean(res)\n",
    "var = np.var(res)\n",
    "print(err)\n",
    "print(var)\n",
    "print(coef)"
   ]
  },
  {
   "cell_type": "code",
   "execution_count": 29,
   "metadata": {
    "scrolled": true
   },
   "outputs": [
    {
     "name": "stderr",
     "output_type": "stream",
     "text": [
      "/Users/danilo/Desktop/projCV/CV_utils.py:533: FutureWarning: `rcond` parameter will change to the default of machine precision times ``max(M, N)`` where M and N are the input matrix dimensions.\n",
      "To use the future default and silence this warning we advise to pass `rcond=None`, to keep using the old, explicitly pass `rcond=-1`.\n",
      "  L, A.dot(q))[0])[0]) / rho\n",
      "/Users/danilo/Desktop/projCV/CV_utils.py:533: FutureWarning: `rcond` parameter will change to the default of machine precision times ``max(M, N)`` where M and N are the input matrix dimensions.\n",
      "To use the future default and silence this warning we advise to pass `rcond=None`, to keep using the old, explicitly pass `rcond=-1`.\n",
      "  L, A.dot(q))[0])[0]) / rho\n",
      "/Users/danilo/Desktop/projCV/CV_utils.py:533: FutureWarning: `rcond` parameter will change to the default of machine precision times ``max(M, N)`` where M and N are the input matrix dimensions.\n",
      "To use the future default and silence this warning we advise to pass `rcond=None`, to keep using the old, explicitly pass `rcond=-1`.\n",
      "  L, A.dot(q))[0])[0]) / rho\n",
      "/Users/danilo/Desktop/projCV/CV_utils.py:533: FutureWarning: `rcond` parameter will change to the default of machine precision times ``max(M, N)`` where M and N are the input matrix dimensions.\n",
      "To use the future default and silence this warning we advise to pass `rcond=None`, to keep using the old, explicitly pass `rcond=-1`.\n",
      "  L, A.dot(q))[0])[0]) / rho\n",
      "/Users/danilo/Desktop/projCV/CV_utils.py:533: FutureWarning: `rcond` parameter will change to the default of machine precision times ``max(M, N)`` where M and N are the input matrix dimensions.\n",
      "To use the future default and silence this warning we advise to pass `rcond=None`, to keep using the old, explicitly pass `rcond=-1`.\n",
      "  L, A.dot(q))[0])[0]) / rho\n",
      "/Users/danilo/Desktop/projCV/CV_utils.py:533: FutureWarning: `rcond` parameter will change to the default of machine precision times ``max(M, N)`` where M and N are the input matrix dimensions.\n",
      "To use the future default and silence this warning we advise to pass `rcond=None`, to keep using the old, explicitly pass `rcond=-1`.\n",
      "  L, A.dot(q))[0])[0]) / rho\n",
      "/Users/danilo/Desktop/projCV/CV_utils.py:533: FutureWarning: `rcond` parameter will change to the default of machine precision times ``max(M, N)`` where M and N are the input matrix dimensions.\n",
      "To use the future default and silence this warning we advise to pass `rcond=None`, to keep using the old, explicitly pass `rcond=-1`.\n",
      "  L, A.dot(q))[0])[0]) / rho\n",
      "/Users/danilo/Desktop/projCV/CV_utils.py:533: FutureWarning: `rcond` parameter will change to the default of machine precision times ``max(M, N)`` where M and N are the input matrix dimensions.\n",
      "To use the future default and silence this warning we advise to pass `rcond=None`, to keep using the old, explicitly pass `rcond=-1`.\n",
      "  L, A.dot(q))[0])[0]) / rho\n",
      "/Users/danilo/Desktop/projCV/CV_utils.py:533: FutureWarning: `rcond` parameter will change to the default of machine precision times ``max(M, N)`` where M and N are the input matrix dimensions.\n",
      "To use the future default and silence this warning we advise to pass `rcond=None`, to keep using the old, explicitly pass `rcond=-1`.\n",
      "  L, A.dot(q))[0])[0]) / rho\n",
      "/Users/danilo/Desktop/projCV/CV_utils.py:533: FutureWarning: `rcond` parameter will change to the default of machine precision times ``max(M, N)`` where M and N are the input matrix dimensions.\n",
      "To use the future default and silence this warning we advise to pass `rcond=None`, to keep using the old, explicitly pass `rcond=-1`.\n",
      "  L, A.dot(q))[0])[0]) / rho\n",
      "/Users/danilo/Desktop/projCV/CV_utils.py:533: FutureWarning: `rcond` parameter will change to the default of machine precision times ``max(M, N)`` where M and N are the input matrix dimensions.\n",
      "To use the future default and silence this warning we advise to pass `rcond=None`, to keep using the old, explicitly pass `rcond=-1`.\n",
      "  L, A.dot(q))[0])[0]) / rho\n",
      "/Users/danilo/Desktop/projCV/CV_utils.py:533: FutureWarning: `rcond` parameter will change to the default of machine precision times ``max(M, N)`` where M and N are the input matrix dimensions.\n",
      "To use the future default and silence this warning we advise to pass `rcond=None`, to keep using the old, explicitly pass `rcond=-1`.\n",
      "  L, A.dot(q))[0])[0]) / rho\n",
      "/Users/danilo/Desktop/projCV/CV_utils.py:533: FutureWarning: `rcond` parameter will change to the default of machine precision times ``max(M, N)`` where M and N are the input matrix dimensions.\n",
      "To use the future default and silence this warning we advise to pass `rcond=None`, to keep using the old, explicitly pass `rcond=-1`.\n",
      "  L, A.dot(q))[0])[0]) / rho\n",
      "/Users/danilo/Desktop/projCV/CV_utils.py:533: FutureWarning: `rcond` parameter will change to the default of machine precision times ``max(M, N)`` where M and N are the input matrix dimensions.\n",
      "To use the future default and silence this warning we advise to pass `rcond=None`, to keep using the old, explicitly pass `rcond=-1`.\n",
      "  L, A.dot(q))[0])[0]) / rho\n",
      "/Users/danilo/Desktop/projCV/CV_utils.py:533: FutureWarning: `rcond` parameter will change to the default of machine precision times ``max(M, N)`` where M and N are the input matrix dimensions.\n",
      "To use the future default and silence this warning we advise to pass `rcond=None`, to keep using the old, explicitly pass `rcond=-1`.\n",
      "  L, A.dot(q))[0])[0]) / rho\n",
      "/Users/danilo/Desktop/projCV/CV_utils.py:533: FutureWarning: `rcond` parameter will change to the default of machine precision times ``max(M, N)`` where M and N are the input matrix dimensions.\n",
      "To use the future default and silence this warning we advise to pass `rcond=None`, to keep using the old, explicitly pass `rcond=-1`.\n",
      "  L, A.dot(q))[0])[0]) / rho\n",
      "/Users/danilo/Desktop/projCV/CV_utils.py:533: FutureWarning: `rcond` parameter will change to the default of machine precision times ``max(M, N)`` where M and N are the input matrix dimensions.\n",
      "To use the future default and silence this warning we advise to pass `rcond=None`, to keep using the old, explicitly pass `rcond=-1`.\n",
      "  L, A.dot(q))[0])[0]) / rho\n",
      "/Users/danilo/Desktop/projCV/CV_utils.py:533: FutureWarning: `rcond` parameter will change to the default of machine precision times ``max(M, N)`` where M and N are the input matrix dimensions.\n",
      "To use the future default and silence this warning we advise to pass `rcond=None`, to keep using the old, explicitly pass `rcond=-1`.\n",
      "  L, A.dot(q))[0])[0]) / rho\n",
      "/Users/danilo/Desktop/projCV/CV_utils.py:533: FutureWarning: `rcond` parameter will change to the default of machine precision times ``max(M, N)`` where M and N are the input matrix dimensions.\n",
      "To use the future default and silence this warning we advise to pass `rcond=None`, to keep using the old, explicitly pass `rcond=-1`.\n",
      "  L, A.dot(q))[0])[0]) / rho\n",
      "/Users/danilo/Desktop/projCV/CV_utils.py:533: FutureWarning: `rcond` parameter will change to the default of machine precision times ``max(M, N)`` where M and N are the input matrix dimensions.\n",
      "To use the future default and silence this warning we advise to pass `rcond=None`, to keep using the old, explicitly pass `rcond=-1`.\n",
      "  L, A.dot(q))[0])[0]) / rho\n",
      "/Users/danilo/Desktop/projCV/CV_utils.py:533: FutureWarning: `rcond` parameter will change to the default of machine precision times ``max(M, N)`` where M and N are the input matrix dimensions.\n",
      "To use the future default and silence this warning we advise to pass `rcond=None`, to keep using the old, explicitly pass `rcond=-1`.\n",
      "  L, A.dot(q))[0])[0]) / rho\n",
      "/Users/danilo/Desktop/projCV/CV_utils.py:533: FutureWarning: `rcond` parameter will change to the default of machine precision times ``max(M, N)`` where M and N are the input matrix dimensions.\n",
      "To use the future default and silence this warning we advise to pass `rcond=None`, to keep using the old, explicitly pass `rcond=-1`.\n",
      "  L, A.dot(q))[0])[0]) / rho\n",
      "/Users/danilo/Desktop/projCV/CV_utils.py:533: FutureWarning: `rcond` parameter will change to the default of machine precision times ``max(M, N)`` where M and N are the input matrix dimensions.\n",
      "To use the future default and silence this warning we advise to pass `rcond=None`, to keep using the old, explicitly pass `rcond=-1`.\n",
      "  L, A.dot(q))[0])[0]) / rho\n"
     ]
    },
    {
     "name": "stderr",
     "output_type": "stream",
     "text": [
      "/Users/danilo/Desktop/projCV/CV_utils.py:533: FutureWarning: `rcond` parameter will change to the default of machine precision times ``max(M, N)`` where M and N are the input matrix dimensions.\n",
      "To use the future default and silence this warning we advise to pass `rcond=None`, to keep using the old, explicitly pass `rcond=-1`.\n",
      "  L, A.dot(q))[0])[0]) / rho\n",
      "/Users/danilo/Desktop/projCV/CV_utils.py:533: FutureWarning: `rcond` parameter will change to the default of machine precision times ``max(M, N)`` where M and N are the input matrix dimensions.\n",
      "To use the future default and silence this warning we advise to pass `rcond=None`, to keep using the old, explicitly pass `rcond=-1`.\n",
      "  L, A.dot(q))[0])[0]) / rho\n",
      "/Users/danilo/Desktop/projCV/CV_utils.py:533: FutureWarning: `rcond` parameter will change to the default of machine precision times ``max(M, N)`` where M and N are the input matrix dimensions.\n",
      "To use the future default and silence this warning we advise to pass `rcond=None`, to keep using the old, explicitly pass `rcond=-1`.\n",
      "  L, A.dot(q))[0])[0]) / rho\n",
      "/Users/danilo/Desktop/projCV/CV_utils.py:533: FutureWarning: `rcond` parameter will change to the default of machine precision times ``max(M, N)`` where M and N are the input matrix dimensions.\n",
      "To use the future default and silence this warning we advise to pass `rcond=None`, to keep using the old, explicitly pass `rcond=-1`.\n",
      "  L, A.dot(q))[0])[0]) / rho\n",
      "/Users/danilo/Desktop/projCV/CV_utils.py:533: FutureWarning: `rcond` parameter will change to the default of machine precision times ``max(M, N)`` where M and N are the input matrix dimensions.\n",
      "To use the future default and silence this warning we advise to pass `rcond=None`, to keep using the old, explicitly pass `rcond=-1`.\n",
      "  L, A.dot(q))[0])[0]) / rho\n",
      "/Users/danilo/Desktop/projCV/CV_utils.py:533: FutureWarning: `rcond` parameter will change to the default of machine precision times ``max(M, N)`` where M and N are the input matrix dimensions.\n",
      "To use the future default and silence this warning we advise to pass `rcond=None`, to keep using the old, explicitly pass `rcond=-1`.\n",
      "  L, A.dot(q))[0])[0]) / rho\n",
      "/Users/danilo/Desktop/projCV/CV_utils.py:533: FutureWarning: `rcond` parameter will change to the default of machine precision times ``max(M, N)`` where M and N are the input matrix dimensions.\n",
      "To use the future default and silence this warning we advise to pass `rcond=None`, to keep using the old, explicitly pass `rcond=-1`.\n",
      "  L, A.dot(q))[0])[0]) / rho\n",
      "/Users/danilo/Desktop/projCV/CV_utils.py:533: FutureWarning: `rcond` parameter will change to the default of machine precision times ``max(M, N)`` where M and N are the input matrix dimensions.\n",
      "To use the future default and silence this warning we advise to pass `rcond=None`, to keep using the old, explicitly pass `rcond=-1`.\n",
      "  L, A.dot(q))[0])[0]) / rho\n",
      "/Users/danilo/Desktop/projCV/CV_utils.py:533: FutureWarning: `rcond` parameter will change to the default of machine precision times ``max(M, N)`` where M and N are the input matrix dimensions.\n",
      "To use the future default and silence this warning we advise to pass `rcond=None`, to keep using the old, explicitly pass `rcond=-1`.\n",
      "  L, A.dot(q))[0])[0]) / rho\n",
      "/Users/danilo/Desktop/projCV/CV_utils.py:533: FutureWarning: `rcond` parameter will change to the default of machine precision times ``max(M, N)`` where M and N are the input matrix dimensions.\n",
      "To use the future default and silence this warning we advise to pass `rcond=None`, to keep using the old, explicitly pass `rcond=-1`.\n",
      "  L, A.dot(q))[0])[0]) / rho\n",
      "/Users/danilo/Desktop/projCV/CV_utils.py:533: FutureWarning: `rcond` parameter will change to the default of machine precision times ``max(M, N)`` where M and N are the input matrix dimensions.\n",
      "To use the future default and silence this warning we advise to pass `rcond=None`, to keep using the old, explicitly pass `rcond=-1`.\n",
      "  L, A.dot(q))[0])[0]) / rho\n",
      "/Users/danilo/Desktop/projCV/CV_utils.py:533: FutureWarning: `rcond` parameter will change to the default of machine precision times ``max(M, N)`` where M and N are the input matrix dimensions.\n",
      "To use the future default and silence this warning we advise to pass `rcond=None`, to keep using the old, explicitly pass `rcond=-1`.\n",
      "  L, A.dot(q))[0])[0]) / rho\n",
      "/Users/danilo/Desktop/projCV/CV_utils.py:533: FutureWarning: `rcond` parameter will change to the default of machine precision times ``max(M, N)`` where M and N are the input matrix dimensions.\n",
      "To use the future default and silence this warning we advise to pass `rcond=None`, to keep using the old, explicitly pass `rcond=-1`.\n",
      "  L, A.dot(q))[0])[0]) / rho\n",
      "/Users/danilo/Desktop/projCV/CV_utils.py:533: FutureWarning: `rcond` parameter will change to the default of machine precision times ``max(M, N)`` where M and N are the input matrix dimensions.\n",
      "To use the future default and silence this warning we advise to pass `rcond=None`, to keep using the old, explicitly pass `rcond=-1`.\n",
      "  L, A.dot(q))[0])[0]) / rho\n",
      "/Users/danilo/Desktop/projCV/CV_utils.py:533: FutureWarning: `rcond` parameter will change to the default of machine precision times ``max(M, N)`` where M and N are the input matrix dimensions.\n",
      "To use the future default and silence this warning we advise to pass `rcond=None`, to keep using the old, explicitly pass `rcond=-1`.\n",
      "  L, A.dot(q))[0])[0]) / rho\n",
      "/Users/danilo/Desktop/projCV/CV_utils.py:533: FutureWarning: `rcond` parameter will change to the default of machine precision times ``max(M, N)`` where M and N are the input matrix dimensions.\n",
      "To use the future default and silence this warning we advise to pass `rcond=None`, to keep using the old, explicitly pass `rcond=-1`.\n",
      "  L, A.dot(q))[0])[0]) / rho\n",
      "/Users/danilo/Desktop/projCV/CV_utils.py:533: FutureWarning: `rcond` parameter will change to the default of machine precision times ``max(M, N)`` where M and N are the input matrix dimensions.\n",
      "To use the future default and silence this warning we advise to pass `rcond=None`, to keep using the old, explicitly pass `rcond=-1`.\n",
      "  L, A.dot(q))[0])[0]) / rho\n",
      "/Users/danilo/Desktop/projCV/CV_utils.py:533: FutureWarning: `rcond` parameter will change to the default of machine precision times ``max(M, N)`` where M and N are the input matrix dimensions.\n",
      "To use the future default and silence this warning we advise to pass `rcond=None`, to keep using the old, explicitly pass `rcond=-1`.\n",
      "  L, A.dot(q))[0])[0]) / rho\n",
      "/Users/danilo/Desktop/projCV/CV_utils.py:533: FutureWarning: `rcond` parameter will change to the default of machine precision times ``max(M, N)`` where M and N are the input matrix dimensions.\n",
      "To use the future default and silence this warning we advise to pass `rcond=None`, to keep using the old, explicitly pass `rcond=-1`.\n",
      "  L, A.dot(q))[0])[0]) / rho\n",
      "/Users/danilo/Desktop/projCV/CV_utils.py:533: FutureWarning: `rcond` parameter will change to the default of machine precision times ``max(M, N)`` where M and N are the input matrix dimensions.\n",
      "To use the future default and silence this warning we advise to pass `rcond=None`, to keep using the old, explicitly pass `rcond=-1`.\n",
      "  L, A.dot(q))[0])[0]) / rho\n",
      "/Users/danilo/Desktop/projCV/CV_utils.py:533: FutureWarning: `rcond` parameter will change to the default of machine precision times ``max(M, N)`` where M and N are the input matrix dimensions.\n",
      "To use the future default and silence this warning we advise to pass `rcond=None`, to keep using the old, explicitly pass `rcond=-1`.\n",
      "  L, A.dot(q))[0])[0]) / rho\n",
      "/Users/danilo/Desktop/projCV/CV_utils.py:533: FutureWarning: `rcond` parameter will change to the default of machine precision times ``max(M, N)`` where M and N are the input matrix dimensions.\n",
      "To use the future default and silence this warning we advise to pass `rcond=None`, to keep using the old, explicitly pass `rcond=-1`.\n",
      "  L, A.dot(q))[0])[0]) / rho\n",
      "/Users/danilo/Desktop/projCV/CV_utils.py:533: FutureWarning: `rcond` parameter will change to the default of machine precision times ``max(M, N)`` where M and N are the input matrix dimensions.\n",
      "To use the future default and silence this warning we advise to pass `rcond=None`, to keep using the old, explicitly pass `rcond=-1`.\n",
      "  L, A.dot(q))[0])[0]) / rho\n"
     ]
    },
    {
     "name": "stderr",
     "output_type": "stream",
     "text": [
      "/Users/danilo/Desktop/projCV/CV_utils.py:533: FutureWarning: `rcond` parameter will change to the default of machine precision times ``max(M, N)`` where M and N are the input matrix dimensions.\n",
      "To use the future default and silence this warning we advise to pass `rcond=None`, to keep using the old, explicitly pass `rcond=-1`.\n",
      "  L, A.dot(q))[0])[0]) / rho\n",
      "/Users/danilo/Desktop/projCV/CV_utils.py:533: FutureWarning: `rcond` parameter will change to the default of machine precision times ``max(M, N)`` where M and N are the input matrix dimensions.\n",
      "To use the future default and silence this warning we advise to pass `rcond=None`, to keep using the old, explicitly pass `rcond=-1`.\n",
      "  L, A.dot(q))[0])[0]) / rho\n",
      "/Users/danilo/Desktop/projCV/CV_utils.py:533: FutureWarning: `rcond` parameter will change to the default of machine precision times ``max(M, N)`` where M and N are the input matrix dimensions.\n",
      "To use the future default and silence this warning we advise to pass `rcond=None`, to keep using the old, explicitly pass `rcond=-1`.\n",
      "  L, A.dot(q))[0])[0]) / rho\n",
      "/Users/danilo/Desktop/projCV/CV_utils.py:533: FutureWarning: `rcond` parameter will change to the default of machine precision times ``max(M, N)`` where M and N are the input matrix dimensions.\n",
      "To use the future default and silence this warning we advise to pass `rcond=None`, to keep using the old, explicitly pass `rcond=-1`.\n",
      "  L, A.dot(q))[0])[0]) / rho\n",
      "/Users/danilo/Desktop/projCV/CV_utils.py:533: FutureWarning: `rcond` parameter will change to the default of machine precision times ``max(M, N)`` where M and N are the input matrix dimensions.\n",
      "To use the future default and silence this warning we advise to pass `rcond=None`, to keep using the old, explicitly pass `rcond=-1`.\n",
      "  L, A.dot(q))[0])[0]) / rho\n",
      "/Users/danilo/Desktop/projCV/CV_utils.py:533: FutureWarning: `rcond` parameter will change to the default of machine precision times ``max(M, N)`` where M and N are the input matrix dimensions.\n",
      "To use the future default and silence this warning we advise to pass `rcond=None`, to keep using the old, explicitly pass `rcond=-1`.\n",
      "  L, A.dot(q))[0])[0]) / rho\n",
      "/Users/danilo/Desktop/projCV/CV_utils.py:533: FutureWarning: `rcond` parameter will change to the default of machine precision times ``max(M, N)`` where M and N are the input matrix dimensions.\n",
      "To use the future default and silence this warning we advise to pass `rcond=None`, to keep using the old, explicitly pass `rcond=-1`.\n",
      "  L, A.dot(q))[0])[0]) / rho\n",
      "/Users/danilo/Desktop/projCV/CV_utils.py:533: FutureWarning: `rcond` parameter will change to the default of machine precision times ``max(M, N)`` where M and N are the input matrix dimensions.\n",
      "To use the future default and silence this warning we advise to pass `rcond=None`, to keep using the old, explicitly pass `rcond=-1`.\n",
      "  L, A.dot(q))[0])[0]) / rho\n",
      "/Users/danilo/Desktop/projCV/CV_utils.py:533: FutureWarning: `rcond` parameter will change to the default of machine precision times ``max(M, N)`` where M and N are the input matrix dimensions.\n",
      "To use the future default and silence this warning we advise to pass `rcond=None`, to keep using the old, explicitly pass `rcond=-1`.\n",
      "  L, A.dot(q))[0])[0]) / rho\n",
      "/Users/danilo/Desktop/projCV/CV_utils.py:533: FutureWarning: `rcond` parameter will change to the default of machine precision times ``max(M, N)`` where M and N are the input matrix dimensions.\n",
      "To use the future default and silence this warning we advise to pass `rcond=None`, to keep using the old, explicitly pass `rcond=-1`.\n",
      "  L, A.dot(q))[0])[0]) / rho\n",
      "/Users/danilo/Desktop/projCV/CV_utils.py:533: FutureWarning: `rcond` parameter will change to the default of machine precision times ``max(M, N)`` where M and N are the input matrix dimensions.\n",
      "To use the future default and silence this warning we advise to pass `rcond=None`, to keep using the old, explicitly pass `rcond=-1`.\n",
      "  L, A.dot(q))[0])[0]) / rho\n",
      "/Users/danilo/Desktop/projCV/CV_utils.py:533: FutureWarning: `rcond` parameter will change to the default of machine precision times ``max(M, N)`` where M and N are the input matrix dimensions.\n",
      "To use the future default and silence this warning we advise to pass `rcond=None`, to keep using the old, explicitly pass `rcond=-1`.\n",
      "  L, A.dot(q))[0])[0]) / rho\n",
      "/Users/danilo/Desktop/projCV/CV_utils.py:533: FutureWarning: `rcond` parameter will change to the default of machine precision times ``max(M, N)`` where M and N are the input matrix dimensions.\n",
      "To use the future default and silence this warning we advise to pass `rcond=None`, to keep using the old, explicitly pass `rcond=-1`.\n",
      "  L, A.dot(q))[0])[0]) / rho\n",
      "/Users/danilo/Desktop/projCV/CV_utils.py:533: FutureWarning: `rcond` parameter will change to the default of machine precision times ``max(M, N)`` where M and N are the input matrix dimensions.\n",
      "To use the future default and silence this warning we advise to pass `rcond=None`, to keep using the old, explicitly pass `rcond=-1`.\n",
      "  L, A.dot(q))[0])[0]) / rho\n",
      "/Users/danilo/Desktop/projCV/CV_utils.py:533: FutureWarning: `rcond` parameter will change to the default of machine precision times ``max(M, N)`` where M and N are the input matrix dimensions.\n",
      "To use the future default and silence this warning we advise to pass `rcond=None`, to keep using the old, explicitly pass `rcond=-1`.\n",
      "  L, A.dot(q))[0])[0]) / rho\n",
      "/Users/danilo/Desktop/projCV/CV_utils.py:533: FutureWarning: `rcond` parameter will change to the default of machine precision times ``max(M, N)`` where M and N are the input matrix dimensions.\n",
      "To use the future default and silence this warning we advise to pass `rcond=None`, to keep using the old, explicitly pass `rcond=-1`.\n",
      "  L, A.dot(q))[0])[0]) / rho\n",
      "/Users/danilo/Desktop/projCV/CV_utils.py:533: FutureWarning: `rcond` parameter will change to the default of machine precision times ``max(M, N)`` where M and N are the input matrix dimensions.\n",
      "To use the future default and silence this warning we advise to pass `rcond=None`, to keep using the old, explicitly pass `rcond=-1`.\n",
      "  L, A.dot(q))[0])[0]) / rho\n",
      "/Users/danilo/Desktop/projCV/CV_utils.py:533: FutureWarning: `rcond` parameter will change to the default of machine precision times ``max(M, N)`` where M and N are the input matrix dimensions.\n",
      "To use the future default and silence this warning we advise to pass `rcond=None`, to keep using the old, explicitly pass `rcond=-1`.\n",
      "  L, A.dot(q))[0])[0]) / rho\n",
      "/Users/danilo/Desktop/projCV/CV_utils.py:533: FutureWarning: `rcond` parameter will change to the default of machine precision times ``max(M, N)`` where M and N are the input matrix dimensions.\n",
      "To use the future default and silence this warning we advise to pass `rcond=None`, to keep using the old, explicitly pass `rcond=-1`.\n",
      "  L, A.dot(q))[0])[0]) / rho\n",
      "/Users/danilo/Desktop/projCV/CV_utils.py:533: FutureWarning: `rcond` parameter will change to the default of machine precision times ``max(M, N)`` where M and N are the input matrix dimensions.\n",
      "To use the future default and silence this warning we advise to pass `rcond=None`, to keep using the old, explicitly pass `rcond=-1`.\n",
      "  L, A.dot(q))[0])[0]) / rho\n",
      "/Users/danilo/Desktop/projCV/CV_utils.py:533: FutureWarning: `rcond` parameter will change to the default of machine precision times ``max(M, N)`` where M and N are the input matrix dimensions.\n",
      "To use the future default and silence this warning we advise to pass `rcond=None`, to keep using the old, explicitly pass `rcond=-1`.\n",
      "  L, A.dot(q))[0])[0]) / rho\n",
      "/Users/danilo/Desktop/projCV/CV_utils.py:533: FutureWarning: `rcond` parameter will change to the default of machine precision times ``max(M, N)`` where M and N are the input matrix dimensions.\n",
      "To use the future default and silence this warning we advise to pass `rcond=None`, to keep using the old, explicitly pass `rcond=-1`.\n",
      "  L, A.dot(q))[0])[0]) / rho\n",
      "/Users/danilo/Desktop/projCV/CV_utils.py:533: FutureWarning: `rcond` parameter will change to the default of machine precision times ``max(M, N)`` where M and N are the input matrix dimensions.\n",
      "To use the future default and silence this warning we advise to pass `rcond=None`, to keep using the old, explicitly pass `rcond=-1`.\n",
      "  L, A.dot(q))[0])[0]) / rho\n"
     ]
    },
    {
     "name": "stderr",
     "output_type": "stream",
     "text": [
      "/Users/danilo/Desktop/projCV/CV_utils.py:533: FutureWarning: `rcond` parameter will change to the default of machine precision times ``max(M, N)`` where M and N are the input matrix dimensions.\n",
      "To use the future default and silence this warning we advise to pass `rcond=None`, to keep using the old, explicitly pass `rcond=-1`.\n",
      "  L, A.dot(q))[0])[0]) / rho\n",
      "/Users/danilo/Desktop/projCV/CV_utils.py:533: FutureWarning: `rcond` parameter will change to the default of machine precision times ``max(M, N)`` where M and N are the input matrix dimensions.\n",
      "To use the future default and silence this warning we advise to pass `rcond=None`, to keep using the old, explicitly pass `rcond=-1`.\n",
      "  L, A.dot(q))[0])[0]) / rho\n",
      "/Users/danilo/Desktop/projCV/CV_utils.py:533: FutureWarning: `rcond` parameter will change to the default of machine precision times ``max(M, N)`` where M and N are the input matrix dimensions.\n",
      "To use the future default and silence this warning we advise to pass `rcond=None`, to keep using the old, explicitly pass `rcond=-1`.\n",
      "  L, A.dot(q))[0])[0]) / rho\n",
      "/Users/danilo/Desktop/projCV/CV_utils.py:533: FutureWarning: `rcond` parameter will change to the default of machine precision times ``max(M, N)`` where M and N are the input matrix dimensions.\n",
      "To use the future default and silence this warning we advise to pass `rcond=None`, to keep using the old, explicitly pass `rcond=-1`.\n",
      "  L, A.dot(q))[0])[0]) / rho\n",
      "/Users/danilo/Desktop/projCV/CV_utils.py:533: FutureWarning: `rcond` parameter will change to the default of machine precision times ``max(M, N)`` where M and N are the input matrix dimensions.\n",
      "To use the future default and silence this warning we advise to pass `rcond=None`, to keep using the old, explicitly pass `rcond=-1`.\n",
      "  L, A.dot(q))[0])[0]) / rho\n",
      "/Users/danilo/Desktop/projCV/CV_utils.py:533: FutureWarning: `rcond` parameter will change to the default of machine precision times ``max(M, N)`` where M and N are the input matrix dimensions.\n",
      "To use the future default and silence this warning we advise to pass `rcond=None`, to keep using the old, explicitly pass `rcond=-1`.\n",
      "  L, A.dot(q))[0])[0]) / rho\n",
      "/Users/danilo/Desktop/projCV/CV_utils.py:533: FutureWarning: `rcond` parameter will change to the default of machine precision times ``max(M, N)`` where M and N are the input matrix dimensions.\n",
      "To use the future default and silence this warning we advise to pass `rcond=None`, to keep using the old, explicitly pass `rcond=-1`.\n",
      "  L, A.dot(q))[0])[0]) / rho\n",
      "/Users/danilo/Desktop/projCV/CV_utils.py:533: FutureWarning: `rcond` parameter will change to the default of machine precision times ``max(M, N)`` where M and N are the input matrix dimensions.\n",
      "To use the future default and silence this warning we advise to pass `rcond=None`, to keep using the old, explicitly pass `rcond=-1`.\n",
      "  L, A.dot(q))[0])[0]) / rho\n",
      "/Users/danilo/Desktop/projCV/CV_utils.py:533: FutureWarning: `rcond` parameter will change to the default of machine precision times ``max(M, N)`` where M and N are the input matrix dimensions.\n",
      "To use the future default and silence this warning we advise to pass `rcond=None`, to keep using the old, explicitly pass `rcond=-1`.\n",
      "  L, A.dot(q))[0])[0]) / rho\n",
      "/Users/danilo/Desktop/projCV/CV_utils.py:533: FutureWarning: `rcond` parameter will change to the default of machine precision times ``max(M, N)`` where M and N are the input matrix dimensions.\n",
      "To use the future default and silence this warning we advise to pass `rcond=None`, to keep using the old, explicitly pass `rcond=-1`.\n",
      "  L, A.dot(q))[0])[0]) / rho\n",
      "/Users/danilo/Desktop/projCV/CV_utils.py:533: FutureWarning: `rcond` parameter will change to the default of machine precision times ``max(M, N)`` where M and N are the input matrix dimensions.\n",
      "To use the future default and silence this warning we advise to pass `rcond=None`, to keep using the old, explicitly pass `rcond=-1`.\n",
      "  L, A.dot(q))[0])[0]) / rho\n",
      "/Users/danilo/Desktop/projCV/CV_utils.py:533: FutureWarning: `rcond` parameter will change to the default of machine precision times ``max(M, N)`` where M and N are the input matrix dimensions.\n",
      "To use the future default and silence this warning we advise to pass `rcond=None`, to keep using the old, explicitly pass `rcond=-1`.\n",
      "  L, A.dot(q))[0])[0]) / rho\n",
      "/Users/danilo/Desktop/projCV/CV_utils.py:533: FutureWarning: `rcond` parameter will change to the default of machine precision times ``max(M, N)`` where M and N are the input matrix dimensions.\n",
      "To use the future default and silence this warning we advise to pass `rcond=None`, to keep using the old, explicitly pass `rcond=-1`.\n",
      "  L, A.dot(q))[0])[0]) / rho\n",
      "/Users/danilo/Desktop/projCV/CV_utils.py:533: FutureWarning: `rcond` parameter will change to the default of machine precision times ``max(M, N)`` where M and N are the input matrix dimensions.\n",
      "To use the future default and silence this warning we advise to pass `rcond=None`, to keep using the old, explicitly pass `rcond=-1`.\n",
      "  L, A.dot(q))[0])[0]) / rho\n",
      "/Users/danilo/Desktop/projCV/CV_utils.py:533: FutureWarning: `rcond` parameter will change to the default of machine precision times ``max(M, N)`` where M and N are the input matrix dimensions.\n",
      "To use the future default and silence this warning we advise to pass `rcond=None`, to keep using the old, explicitly pass `rcond=-1`.\n",
      "  L, A.dot(q))[0])[0]) / rho\n",
      "/Users/danilo/Desktop/projCV/CV_utils.py:533: FutureWarning: `rcond` parameter will change to the default of machine precision times ``max(M, N)`` where M and N are the input matrix dimensions.\n",
      "To use the future default and silence this warning we advise to pass `rcond=None`, to keep using the old, explicitly pass `rcond=-1`.\n",
      "  L, A.dot(q))[0])[0]) / rho\n",
      "/Users/danilo/Desktop/projCV/CV_utils.py:533: FutureWarning: `rcond` parameter will change to the default of machine precision times ``max(M, N)`` where M and N are the input matrix dimensions.\n",
      "To use the future default and silence this warning we advise to pass `rcond=None`, to keep using the old, explicitly pass `rcond=-1`.\n",
      "  L, A.dot(q))[0])[0]) / rho\n",
      "/Users/danilo/Desktop/projCV/CV_utils.py:533: FutureWarning: `rcond` parameter will change to the default of machine precision times ``max(M, N)`` where M and N are the input matrix dimensions.\n",
      "To use the future default and silence this warning we advise to pass `rcond=None`, to keep using the old, explicitly pass `rcond=-1`.\n",
      "  L, A.dot(q))[0])[0]) / rho\n",
      "/Users/danilo/Desktop/projCV/CV_utils.py:533: FutureWarning: `rcond` parameter will change to the default of machine precision times ``max(M, N)`` where M and N are the input matrix dimensions.\n",
      "To use the future default and silence this warning we advise to pass `rcond=None`, to keep using the old, explicitly pass `rcond=-1`.\n",
      "  L, A.dot(q))[0])[0]) / rho\n",
      "/Users/danilo/Desktop/projCV/CV_utils.py:533: FutureWarning: `rcond` parameter will change to the default of machine precision times ``max(M, N)`` where M and N are the input matrix dimensions.\n",
      "To use the future default and silence this warning we advise to pass `rcond=None`, to keep using the old, explicitly pass `rcond=-1`.\n",
      "  L, A.dot(q))[0])[0]) / rho\n",
      "/Users/danilo/Desktop/projCV/CV_utils.py:533: FutureWarning: `rcond` parameter will change to the default of machine precision times ``max(M, N)`` where M and N are the input matrix dimensions.\n",
      "To use the future default and silence this warning we advise to pass `rcond=None`, to keep using the old, explicitly pass `rcond=-1`.\n",
      "  L, A.dot(q))[0])[0]) / rho\n",
      "/Users/danilo/Desktop/projCV/CV_utils.py:533: FutureWarning: `rcond` parameter will change to the default of machine precision times ``max(M, N)`` where M and N are the input matrix dimensions.\n",
      "To use the future default and silence this warning we advise to pass `rcond=None`, to keep using the old, explicitly pass `rcond=-1`.\n",
      "  L, A.dot(q))[0])[0]) / rho\n",
      "/Users/danilo/Desktop/projCV/CV_utils.py:533: FutureWarning: `rcond` parameter will change to the default of machine precision times ``max(M, N)`` where M and N are the input matrix dimensions.\n",
      "To use the future default and silence this warning we advise to pass `rcond=None`, to keep using the old, explicitly pass `rcond=-1`.\n",
      "  L, A.dot(q))[0])[0]) / rho\n"
     ]
    },
    {
     "name": "stderr",
     "output_type": "stream",
     "text": [
      "/Users/danilo/Desktop/projCV/CV_utils.py:533: FutureWarning: `rcond` parameter will change to the default of machine precision times ``max(M, N)`` where M and N are the input matrix dimensions.\n",
      "To use the future default and silence this warning we advise to pass `rcond=None`, to keep using the old, explicitly pass `rcond=-1`.\n",
      "  L, A.dot(q))[0])[0]) / rho\n",
      "/Users/danilo/Desktop/projCV/CV_utils.py:533: FutureWarning: `rcond` parameter will change to the default of machine precision times ``max(M, N)`` where M and N are the input matrix dimensions.\n",
      "To use the future default and silence this warning we advise to pass `rcond=None`, to keep using the old, explicitly pass `rcond=-1`.\n",
      "  L, A.dot(q))[0])[0]) / rho\n",
      "/Users/danilo/Desktop/projCV/CV_utils.py:533: FutureWarning: `rcond` parameter will change to the default of machine precision times ``max(M, N)`` where M and N are the input matrix dimensions.\n",
      "To use the future default and silence this warning we advise to pass `rcond=None`, to keep using the old, explicitly pass `rcond=-1`.\n",
      "  L, A.dot(q))[0])[0]) / rho\n",
      "/Users/danilo/Desktop/projCV/CV_utils.py:533: FutureWarning: `rcond` parameter will change to the default of machine precision times ``max(M, N)`` where M and N are the input matrix dimensions.\n",
      "To use the future default and silence this warning we advise to pass `rcond=None`, to keep using the old, explicitly pass `rcond=-1`.\n",
      "  L, A.dot(q))[0])[0]) / rho\n",
      "/Users/danilo/Desktop/projCV/CV_utils.py:533: FutureWarning: `rcond` parameter will change to the default of machine precision times ``max(M, N)`` where M and N are the input matrix dimensions.\n",
      "To use the future default and silence this warning we advise to pass `rcond=None`, to keep using the old, explicitly pass `rcond=-1`.\n",
      "  L, A.dot(q))[0])[0]) / rho\n",
      "/Users/danilo/Desktop/projCV/CV_utils.py:533: FutureWarning: `rcond` parameter will change to the default of machine precision times ``max(M, N)`` where M and N are the input matrix dimensions.\n",
      "To use the future default and silence this warning we advise to pass `rcond=None`, to keep using the old, explicitly pass `rcond=-1`.\n",
      "  L, A.dot(q))[0])[0]) / rho\n",
      "/Users/danilo/Desktop/projCV/CV_utils.py:533: FutureWarning: `rcond` parameter will change to the default of machine precision times ``max(M, N)`` where M and N are the input matrix dimensions.\n",
      "To use the future default and silence this warning we advise to pass `rcond=None`, to keep using the old, explicitly pass `rcond=-1`.\n",
      "  L, A.dot(q))[0])[0]) / rho\n",
      "/Users/danilo/Desktop/projCV/CV_utils.py:533: FutureWarning: `rcond` parameter will change to the default of machine precision times ``max(M, N)`` where M and N are the input matrix dimensions.\n",
      "To use the future default and silence this warning we advise to pass `rcond=None`, to keep using the old, explicitly pass `rcond=-1`.\n",
      "  L, A.dot(q))[0])[0]) / rho\n"
     ]
    },
    {
     "name": "stdout",
     "output_type": "stream",
     "text": [
      "1.675\n",
      "0.7260416666666668\n",
      "[ 0.  0.  0. ... -0. -0.  0.]\n"
     ]
    }
   ],
   "source": [
    "# FRAGILITY\n",
    "coef, alpha = cvu.group_lassoCV(X_tr, Y_f_tr, alphas, groups, max_iter=cvu.MAX_ITER, rtol=1e-6)\n",
    "res = abs(Y_l_ts-np.dot(X_ts,coef))\n",
    "err = np.mean(res)\n",
    "var = np.var(res)\n",
    "print(err)\n",
    "print(var)\n",
    "print(coef)"
   ]
  }
 ],
 "metadata": {
  "kernelspec": {
   "display_name": "Python 3",
   "language": "python",
   "name": "python3"
  },
  "language_info": {
   "codemirror_mode": {
    "name": "ipython",
    "version": 3
   },
   "file_extension": ".py",
   "mimetype": "text/x-python",
   "name": "python",
   "nbconvert_exporter": "python",
   "pygments_lexer": "ipython3",
   "version": "3.6.5"
  }
 },
 "nbformat": 4,
 "nbformat_minor": 2
}
